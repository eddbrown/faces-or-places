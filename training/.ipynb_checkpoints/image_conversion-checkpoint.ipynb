{
 "cells": [
  {
   "cell_type": "code",
   "execution_count": 1,
   "metadata": {},
   "outputs": [],
   "source": [
    "# This file simply prepares the data into a format that a classifier\n",
    "# can easily sort through. It also dumps a pickled data hash into the \n",
    "# server file so that we dont have to change the server every time a\n",
    "# parameter is changed\n",
    "\n",
    "from sklearn.datasets import fetch_lfw_people\n",
    "import numpy as np\n",
    "import matplotlib.pyplot as plt\n",
    "import matplotlib.image as mpimg\n",
    "from PIL import Image\n",
    "import PIL\n",
    "from resizeimage import resizeimage\n",
    "import os\n",
    "from pydataset import data\n",
    "from sklearn.model_selection import train_test_split\n",
    "from sklearn.ensemble import RandomForestClassifier\n",
    "from sklearn.metrics import classification_report\n",
    "from sklearn.metrics import confusion_matrix\n",
    "import pickle\n",
    "\n",
    "# Set random seed\n",
    "seed = 42\n",
    "np.random.seed(seed)\n",
    "\n",
    "# Image Parameters\n",
    "width = 100\n",
    "height = 100\n",
    "channels = 3\n",
    "features = width * height * channels\n",
    "\n",
    "# Get Faces\n",
    "faces = fetch_lfw_people(data_home='sourced_data/faces', min_faces_per_person=1, resize=0.4)"
   ]
  },
  {
   "cell_type": "code",
   "execution_count": 2,
   "metadata": {},
   "outputs": [],
   "source": [
    "def load_image( infilename ) :\n",
    "    return Image.open( infilename )\n",
    "    \n",
    "def convert_image_to_1d(file_name, width, height):\n",
    "    img = load_image(file_name)\n",
    "    img = img.resize((width, height), PIL.Image.ANTIALIAS)\n",
    "    image_array = np.asarray(img, dtype=\"int32\" )\n",
    "    return image_array.reshape((1,-1))"
   ]
  },
  {
   "cell_type": "code",
   "execution_count": 3,
   "metadata": {},
   "outputs": [],
   "source": [
    "# Sort sourced places\n",
    "sourced_places_root = \"sourced_data/places\"\n",
    "sourced_places_array = np.zeros((1,features))\n",
    "for file in os.listdir(sourced_places_root):\n",
    "    if not file.endswith('.jpg'):\n",
    "        continue\n",
    "    one_d_array = convert_image_to_1d(sourced_places_root + '/' + file, width, height)\n",
    "    (_, length) = np.shape(one_d_array)\n",
    "    if length != features:\n",
    "        continue\n",
    "    sourced_places_array = np.concatenate((sourced_places_array, one_d_array))\n",
    "\n",
    "sourced_places_array = sourced_places_array[1:,:]\n",
    "pickle.dump(sourced_places_array, open(\"sourced_places_array.p\", \"wb\"))"
   ]
  },
  {
   "cell_type": "code",
   "execution_count": 4,
   "metadata": {},
   "outputs": [
    {
     "name": "stdout",
     "output_type": "stream",
     "text": [
      "(502, 30000)\n"
     ]
    }
   ],
   "source": [
    "# Sort sourced faces\n",
    "sourced_faces_root = 'sourced_data/faces/lfw_home/lfw_funneled'\n",
    "sourced_faces_array = np.zeros((1,features))\n",
    "i = 0\n",
    "for root, dirs, files in os.walk(sourced_faces_root):\n",
    "    if i > 500:\n",
    "        break\n",
    "    for file in files:\n",
    "        if file.endswith('.jpg'):\n",
    "            i += 1\n",
    "            image_path = os.path.join(root, file)\n",
    "            one_d_array = convert_image_to_1d(image_path, width, height)\n",
    "            sourced_faces_array = np.concatenate((sourced_faces_array, one_d_array))\n",
    "\n",
    "sourced_faces_array = sourced_faces_array[1:,:]\n",
    "\n",
    "print(np.shape(sourced_faces_array))\n",
    "pickle.dump(sourced_faces_array, open(\"sourced_faces_array.p\", \"wb\"))"
   ]
  },
  {
   "cell_type": "code",
   "execution_count": 5,
   "metadata": {},
   "outputs": [],
   "source": [
    "sourced_faces_array = pickle.load(open(\"sourced_faces_array.p\", \"rb\"))\n",
    "sourced_places_array = pickle.load(open(\"sourced_places_array.p\", \"rb\"))\n",
    "\n",
    "X = np.vstack((sourced_faces_array, sourced_places_array))\n",
    "np.shape(X)\n",
    "\n",
    "(sourced_face_count, features) = np.shape(sourced_faces_array)\n",
    "(sourced_image_count, features) = np.shape(X)"
   ]
  },
  {
   "cell_type": "code",
   "execution_count": 7,
   "metadata": {},
   "outputs": [],
   "source": [
    "y = np.zeros((sourced_image_count, 1))\n",
    "for i in range(sourced_face_count):\n",
    "    y[i,:] = 1\n",
    "    \n",
    "y = y.ravel()\n",
    "\n",
    "pickle.dump(X, open('converted_data/X.p', \"wb\"))\n",
    "pickle.dump(y, open('converted_data/y.p', \"wb\"))"
   ]
  },
  {
   "cell_type": "code",
   "execution_count": 8,
   "metadata": {},
   "outputs": [],
   "source": [
    "# Convert places from onfido images\n",
    "places_root = \"onfido_images/places\"\n",
    "places_array = np.zeros((1,features))\n",
    "for file in os.listdir(places_root):\n",
    "    one_d_array = convert_image_to_1d(places_root + '/' + file, width, height)\n",
    "    places_array = np.concatenate((places_array, one_d_array))\n",
    "\n",
    "pickle.dump(places_array, open(\"converted_data/onfido_places.p\", \"wb\"))"
   ]
  },
  {
   "cell_type": "code",
   "execution_count": 9,
   "metadata": {},
   "outputs": [],
   "source": [
    "# Convert faces from onfido images\n",
    "faces_root = \"onfido_images/faces\"\n",
    "faces_array = np.zeros((1,features))\n",
    "for file in os.listdir(faces_root):\n",
    "    one_d_array = convert_image_to_1d(faces_root + '/' + file, width, height)\n",
    "    faces_array = np.concatenate((faces_array, one_d_array))\n",
    "\n",
    "pickle.dump(faces_array, open(\"converted_data/onfido_faces.p\", \"wb\"))"
   ]
  },
  {
   "cell_type": "code",
   "execution_count": 18,
   "metadata": {},
   "outputs": [],
   "source": [
    "# Save params for server file\n",
    "trained_params = {'width':width, 'height':height}\n",
    "pickle.dump(trained_params, open(\"../server/data/image_params.p\", \"wb\"))"
   ]
  },
  {
   "cell_type": "code",
   "execution_count": null,
   "metadata": {},
   "outputs": [],
   "source": []
  }
 ],
 "metadata": {
  "kernelspec": {
   "display_name": "Python 3",
   "language": "python",
   "name": "python3"
  },
  "language_info": {
   "codemirror_mode": {
    "name": "ipython",
    "version": 3
   },
   "file_extension": ".py",
   "mimetype": "text/x-python",
   "name": "python",
   "nbconvert_exporter": "python",
   "pygments_lexer": "ipython3",
   "version": "3.6.3"
  }
 },
 "nbformat": 4,
 "nbformat_minor": 2
}
